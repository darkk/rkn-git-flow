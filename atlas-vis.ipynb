{
 "cells": [
  {
   "cell_type": "markdown",
   "metadata": {},
   "source": [
    "Jupyter notebook к докладу https://slides.ooni.io/2018/cif/\n",
    "\n",
    "Цветовое кодирование:\n",
    "- серый &mdash; единичные измерения поступающие от пробников RIPE Atlas\n",
    "- чёрный &mdash; портскан с адреса `178.176.30.221`\n",
    "- синий &mdash; `ts=` из блоклиста РКН, совпадает со значением `ts=` в \"дэльтах\"\n",
    "- красный &mdash; примерное время блокировки на конкретном пробнике RIPE Atlas"
   ]
  },
  {
   "cell_type": "code",
   "execution_count": null,
   "metadata": {},
   "outputs": [],
   "source": [
    "PROBE_PLOT = True\n",
    "experiment = 's5tg-05'"
   ]
  },
  {
   "cell_type": "code",
   "execution_count": null,
   "metadata": {},
   "outputs": [],
   "source": [
    "%pylab inline"
   ]
  },
  {
   "cell_type": "code",
   "execution_count": null,
   "metadata": {},
   "outputs": [],
   "source": [
    "from pytz import reference\n",
    "TZ = reference.LocalTimezone()"
   ]
  },
  {
   "cell_type": "code",
   "execution_count": null,
   "metadata": {},
   "outputs": [],
   "source": [
    "import pandas as pd\n",
    "import requests\n",
    "from scipy.optimize import minimize_scalar"
   ]
  },
  {
   "cell_type": "code",
   "execution_count": null,
   "metadata": {},
   "outputs": [],
   "source": [
    "rkn_ts = {\n",
    "    #<ip ts=\"2018-09-20T03:30:00+03:00\">45.56.118.171</ip>\n",
    "    # no RIPE Atlas data\n",
    "    #<ip ts=\"2018-09-20T17:01:00+03:00\">66.175.214.174</ip>\n",
    "    '66.175.214.174:1080': 1537452060,\n",
    "    #<ip ts=\"2018-09-20T17:01:00+03:00\">45.33.100.246</ip>\n",
    "    '45.33.100.246:27435': 1537452060,\n",
    "    #<ip ts=\"2018-09-20T21:28:00+03:00\">104.200.21.102</ip>\n",
    "    '104.200.21.102:15197': 1537468080,\n",
    "    #<ip ts=\"2018-09-21T01:20:00+03:00\">173.255.215.241</ip>\n",
    "    '173.255.215.241:24914': 1537482000,\n",
    "}\n",
    "scan_ts = {\n",
    "    '45.56.118.171:1080': 1537392745, # no RIPE Atlas data\n",
    "    '66.175.214.174:1080': 1537445876,\n",
    "    '45.33.100.246:27435': 1537445708,\n",
    "    '104.200.21.102:15197': 1537464296,\n",
    "    '173.255.215.241:24914': 1537473342,\n",
    "}"
   ]
  },
  {
   "cell_type": "code",
   "execution_count": null,
   "metadata": {},
   "outputs": [],
   "source": [
    "d = pd.read_json('{}-full.jsonl'.format(experiment), lines=True)\n",
    "d.head()"
   ]
  },
  {
   "cell_type": "code",
   "execution_count": null,
   "metadata": {},
   "outputs": [],
   "source": [
    "if hasattr(d, 'dst'):\n",
    "    dst = d.dst[0]\n",
    "    print 'del dst', dst\n",
    "    blue_line = rkn_ts[dst] * 1000000000\n",
    "    scan_line = scan_ts[dst] * 1000000000\n",
    "    assert d.dst.nunique() == 1\n",
    "    del d['dst']\n",
    "blue_dt = pd.to_datetime(blue_line, unit='ns')\n",
    "scan_dt = pd.to_datetime(scan_line, unit='ns')\n",
    "if not hasattr(d, 'good_cert'):\n",
    "    known_certs = d.groupby('cert').cert.nunique()\n",
    "    good_cert = max(dict(known_certs).items(), key=lambda _: _[1])[0]\n",
    "    print 'add good_cert'\n",
    "    d['good_cert'] = (d.cert == good_cert)\n",
    "    print 'del cert'\n",
    "    del d['cert']\n",
    "if not hasattr(d, 'stored_utc'):\n",
    "    print 'add stored_utc'\n",
    "    d['stored_utc'] = pd.to_datetime(d.stored_timestamp, unit='s')"
   ]
  },
  {
   "cell_type": "code",
   "execution_count": null,
   "metadata": {},
   "outputs": [],
   "source": [
    "(d.stored_utc - d.timestamp).describe()"
   ]
  },
  {
   "cell_type": "markdown",
   "metadata": {},
   "source": [
    "В некоторый момент с части пробников измерения были сняты, т.к. на данных пробах блокировка уже наступила и тратить RIPE Atlas кредиты на них не имело смысла. Пробы, с которых сигнал о блокировке ещё не был получен, продолжали генерировать измерения."
   ]
  },
  {
   "cell_type": "code",
   "execution_count": null,
   "metadata": {},
   "outputs": [],
   "source": [
    "f = figure(figsize=(16,4))\n",
    "axvline(blue_dt, color='blue')\n",
    "axvline(scan_dt, color='black', ls='--')\n",
    "xlim(d.timestamp.min(), d.timestamp.max())\n",
    "f.axes[0].xaxis_date(TZ)\n",
    "d.timestamp.hist(bins=100, color='grey')\n",
    "title(u'Объём поступающих измерений')\n",
    "xlabel(u'День, час, МСК')\n",
    "show()"
   ]
  },
  {
   "cell_type": "code",
   "execution_count": null,
   "metadata": {
    "scrolled": true
   },
   "outputs": [],
   "source": [
    "red_line = {} # prb_id -> timestamp\n",
    "\n",
    "for prb_id in d.prb_id.unique():\n",
    "    prb = d[d.prb_id == prb_id]\n",
    "    yorig = prb.good_cert.astype('int')\n",
    "    xorig = prb.timestamp.astype('int64')\n",
    "    def separator_cost(x):\n",
    "        cls = (xorig < x).astype('int')\n",
    "        return (yorig != cls).sum()\n",
    "    sol = minimize_scalar(separator_cost, bounds=(xorig.min(), xorig.max()), method='Bounded')\n",
    "    assert sol.success == True\n",
    "    red_line[prb_id] = sol.x"
   ]
  },
  {
   "cell_type": "code",
   "execution_count": null,
   "metadata": {
    "scrolled": false
   },
   "outputs": [],
   "source": [
    "if PROBE_PLOT:\n",
    "    for prb_id, red_dt in sorted(red_line.items(), key=lambda x: x[1]):\n",
    "        prb = d[d.prb_id == prb_id]\n",
    "        red_dt = pd.to_datetime(red_dt, unit='ns').floor('s')\n",
    "                                 \n",
    "        print 'prb_id: {}'.format(prb_id)\n",
    "        f = figure(figsize=(16,3))\n",
    "        xlim(d.timestamp.min(), d.timestamp.max())\n",
    "        grid()\n",
    "        f.axes[0].xaxis_date(TZ)\n",
    "        xlabel(u'День, час, МСК')\n",
    "        title('prb_id: {}, red_line: {} UTC'.format(prb_id, red_dt))\n",
    "        scatter(list(prb.timestamp), prb.good_cert.astype('int'), color='grey')\n",
    "        axvline(red_dt, color='red')\n",
    "        axvline(blue_dt, color='blue')\n",
    "        axvline(scan_dt, color='black', ls='--')\n",
    "        show()"
   ]
  },
  {
   "cell_type": "code",
   "execution_count": null,
   "metadata": {},
   "outputs": [],
   "source": [
    "red = pd.DataFrame.from_records(red_line.items(), columns=['prb_id', 'line'])\n",
    "red['dt'] = pd.to_datetime(red.line, unit='ns')\n",
    "red.sort_values(by=['line'], inplace=True)\n",
    "red.head()"
   ]
  },
  {
   "cell_type": "code",
   "execution_count": null,
   "metadata": {},
   "outputs": [],
   "source": [
    "f = figure(figsize=(12,9))\n",
    "ylim(d.timestamp.min(), red.dt.quantile(0.90))\n",
    "axhline(blue_dt, color='blue', label=u'`ts=` из блоклиста', lw=3)\n",
    "axhline(scan_dt, color='black', ls='--', label=u'портскан с 178.176.30.221', lw=3)\n",
    "scatter(range(len(red.dt)), list(red.dt), color='red', label=u'моменты блокировки на разных пробниках')\n",
    "title(u'Блокировка сервиса {}, эксперимент {}'.format(dst, experiment))\n",
    "legend(loc='upper left')\n",
    "ylabel(u'День, час, МСК')\n",
    "f.axes[0].yaxis_date(TZ)\n",
    "grid()\n",
    "show()"
   ]
  },
  {
   "cell_type": "code",
   "execution_count": null,
   "metadata": {},
   "outputs": [],
   "source": [
    "the_fastest_draw = red[red.dt < blue_dt].copy()\n",
    "the_fastest_draw['advance'] = blue_dt - the_fastest_draw.dt\n",
    "the_fastest_draw.advance.describe()"
   ]
  },
  {
   "cell_type": "code",
   "execution_count": null,
   "metadata": {},
   "outputs": [],
   "source": [
    "ip_to_prb_id = dict(zip(d['from'], d.prb_id))"
   ]
  },
  {
   "cell_type": "code",
   "execution_count": null,
   "metadata": {},
   "outputs": [],
   "source": [
    "whois = []\n",
    "if PROBE_PLOT:\n",
    "    with requests.Session() as sess:\n",
    "        for ip in set(d[d.prb_id.isin(the_fastest_draw.prb_id)]['from']):\n",
    "            wh = sess.get('https://stat.ripe.net/data/prefix-overview/data.json?resource={}/32'.format(ip)).json()\n",
    "            assert len(wh['data']['asns']) == 1\n",
    "            whois.append({\n",
    "                'ip': ip,\n",
    "                'prb_id': ip_to_prb_id[ip],\n",
    "                'resource': wh['data']['resource'],\n",
    "                'asn': wh['data']['asns'][0]['asn'],\n",
    "                'holder': wh['data']['asns'][0]['holder'],\n",
    "            })"
   ]
  },
  {
   "cell_type": "code",
   "execution_count": null,
   "metadata": {},
   "outputs": [],
   "source": [
    "whois.sort(key=lambda x: (x['asn'], x['ip']))\n",
    "pd.DataFrame(whois, columns=['ip', 'prb_id', 'resource', 'asn', 'holder'])"
   ]
  }
 ],
 "metadata": {
  "kernelspec": {
   "display_name": "Python 2",
   "language": "python",
   "name": "python2"
  },
  "language_info": {
   "codemirror_mode": {
    "name": "ipython",
    "version": 2
   },
   "file_extension": ".py",
   "mimetype": "text/x-python",
   "name": "python",
   "nbconvert_exporter": "python",
   "pygments_lexer": "ipython2",
   "version": "2.7.15"
  }
 },
 "nbformat": 4,
 "nbformat_minor": 1
}
